{
 "cells": [
  {
   "cell_type": "markdown",
   "metadata": {},
   "source": [
    "git clone https://github.com/cltl/EMISSOR --branch issue-53-processing\n",
    "cd EMISSOR\n",
    "python install.py install"
   ]
  },
  {
   "cell_type": "markdown",
   "metadata": {},
   "source": [
    "Go to https://github.com/tae898/multimodal-datasets\n",
    "Run the dataset extraction from there, this will give\n",
    "raw-video/\n",
    "    train/ val/ test/\n",
    "the example_processing expects:\n",
    "raw-video/\n",
    "    dia01_....mp4\n",
    "raw-text/\n",
    "    dia01_....txt\n",
    "We need to match the directory structure (copy/rename/link) e.g.\n",
    "> ln -s original_dir/raw_video/train new_dir/raw_video\n",
    "Create the docker images in Taes repo:\n",
    "https://github.com/tae898/face\n",
    "Checkout the `issue-53-processing` branch from EMISSOR\n",
    "In the root directory of the EMISSOR repo run\n",
    "     python -m emissor.processing --plugin example_processing/meld --scenarios example_data/demo --dataset example_data/demo_orig  --num-jobs 4\n",
    "This runs all steps, you can specify the steps:\n",
    "    --preprocessing --init --process all\n",
    "(`all` can be replaced with the processor class name)\n",
    "* Preprocessing splits videos, copies images and text to \"scenarions\" folder\n",
    "* Init creates dia...json, image.json, text.json, without any mentions/annotations\n",
    "* Process adds mentions/annotations\n",
    "Parallelize with, max frames per second \n",
    "    --num-jobs 4  --fps_max 1\n",
    "    \n",
    "    \n",
    " python -m emissor.processing --plugin example_processing/meld --scenarios example_data/demo --dataset example_data/demo_orig  --num-jobs 4\n",
    "    "
   ]
  },
  {
   "cell_type": "code",
   "execution_count": null,
   "metadata": {},
   "outputs": [],
   "source": [
    "%pip install -r requirements.txt"
   ]
  },
  {
   "cell_type": "code",
   "execution_count": 1,
   "metadata": {},
   "outputs": [],
   "source": [
    "import emissor as em"
   ]
  },
  {
   "cell_type": "code",
   "execution_count": 3,
   "metadata": {},
   "outputs": [
    {
     "name": "stdout",
     "output_type": "stream",
     "text": [
      "Collecting importlib-resources\n",
      "  Downloading importlib_resources-5.2.0-py3-none-any.whl (27 kB)\n",
      "Requirement already satisfied: zipp>=3.1.0 in /Users/piek/opt/anaconda3/lib/python3.7/site-packages (from importlib-resources) (3.4.0)\n",
      "Installing collected packages: importlib-resources\n",
      "Successfully installed importlib-resources-5.2.0\n",
      "\u001b[33mWARNING: You are using pip version 21.1.3; however, version 21.2.1 is available.\n",
      "You should consider upgrading via the '/Users/piek/opt/anaconda3/bin/python -m pip install --upgrade pip' command.\u001b[0m\n",
      "Note: you may need to restart the kernel to use updated packages.\n"
     ]
    }
   ],
   "source": [
    "#For some reason I still had to install\n",
    "%pip install importlib-resources"
   ]
  },
  {
   "cell_type": "code",
   "execution_count": 6,
   "metadata": {},
   "outputs": [],
   "source": [
    "logger = logging.getLogger(__name__)\n",
    "nlp = spacy.load('en_core_web_sm')"
   ]
  }
 ],
 "metadata": {
  "kernelspec": {
   "display_name": "Python 3",
   "language": "python",
   "name": "python3"
  },
  "language_info": {
   "codemirror_mode": {
    "name": "ipython",
    "version": 3
   },
   "file_extension": ".py",
   "mimetype": "text/x-python",
   "name": "python",
   "nbconvert_exporter": "python",
   "pygments_lexer": "ipython3",
   "version": "3.7.6"
  }
 },
 "nbformat": 4,
 "nbformat_minor": 4
}
